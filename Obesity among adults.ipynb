{
 "cells": [
  {
   "cell_type": "markdown",
   "id": "motivated-olympus",
   "metadata": {},
   "source": [
    "# Projeto final\n",
    "\n",
    "Bem vindo ao projeto final do curso/módulo de Pandas.\n",
    "Neste projeto, você deve responder a um conjunto de perguntas feitas a dois conjuntos de dados:\n",
    "\n",
    "1. [Obesity among adults by country, 1975-2016](https://www.kaggle.com/amanarora/obesity-among-adults-by-country-19752016/)\n",
    "2. [GDP Per Person (1901-2011)](https://www.kaggle.com/divyansh22/gdp-per-person-19012011?select=GDP.csv)\n",
    "\n",
    "Tais conjuntos de dados são públicos foram publicados no Kaggle. Mais instruções sobre cada um deles podem ser encontrados nos links acima. Você também os encontrará na pasta `Datasets`, dentro de nossas apostilas."
   ]
  },
  {
   "cell_type": "code",
   "execution_count": 1,
   "id": "million-survival",
   "metadata": {},
   "outputs": [],
   "source": [
    "import pandas as pd\n",
    "import numpy as np"
   ]
  },
  {
   "cell_type": "markdown",
   "id": "becoming-princeton",
   "metadata": {},
   "source": [
    "## Perguntas - Obesity among adults by country, 1975-2016"
   ]
  },
  {
   "cell_type": "code",
   "execution_count": 2,
   "id": "formal-heater",
   "metadata": {},
   "outputs": [],
   "source": [
    "df_obesity = pd.read_csv(\"obesity_cleaned.csv\")"
   ]
  },
  {
   "cell_type": "code",
   "execution_count": 3,
   "id": "e9c0bcb5",
   "metadata": {},
   "outputs": [
    {
     "data": {
      "text/html": [
       "<div>\n",
       "<style scoped>\n",
       "    .dataframe tbody tr th:only-of-type {\n",
       "        vertical-align: middle;\n",
       "    }\n",
       "\n",
       "    .dataframe tbody tr th {\n",
       "        vertical-align: top;\n",
       "    }\n",
       "\n",
       "    .dataframe thead th {\n",
       "        text-align: right;\n",
       "    }\n",
       "</style>\n",
       "<table border=\"1\" class=\"dataframe\">\n",
       "  <thead>\n",
       "    <tr style=\"text-align: right;\">\n",
       "      <th></th>\n",
       "      <th>Unnamed: 0</th>\n",
       "      <th>Country</th>\n",
       "      <th>Year</th>\n",
       "      <th>Obesity (%)</th>\n",
       "      <th>Sex</th>\n",
       "    </tr>\n",
       "  </thead>\n",
       "  <tbody>\n",
       "    <tr>\n",
       "      <th>0</th>\n",
       "      <td>0</td>\n",
       "      <td>Afghanistan</td>\n",
       "      <td>1975</td>\n",
       "      <td>0.5 [0.2-1.1]</td>\n",
       "      <td>Both sexes</td>\n",
       "    </tr>\n",
       "    <tr>\n",
       "      <th>1</th>\n",
       "      <td>1</td>\n",
       "      <td>Afghanistan</td>\n",
       "      <td>1975</td>\n",
       "      <td>0.2 [0.0-0.6]</td>\n",
       "      <td>Male</td>\n",
       "    </tr>\n",
       "    <tr>\n",
       "      <th>2</th>\n",
       "      <td>2</td>\n",
       "      <td>Afghanistan</td>\n",
       "      <td>1975</td>\n",
       "      <td>0.8 [0.2-2.0]</td>\n",
       "      <td>Female</td>\n",
       "    </tr>\n",
       "    <tr>\n",
       "      <th>3</th>\n",
       "      <td>3</td>\n",
       "      <td>Afghanistan</td>\n",
       "      <td>1976</td>\n",
       "      <td>0.5 [0.2-1.1]</td>\n",
       "      <td>Both sexes</td>\n",
       "    </tr>\n",
       "    <tr>\n",
       "      <th>4</th>\n",
       "      <td>4</td>\n",
       "      <td>Afghanistan</td>\n",
       "      <td>1976</td>\n",
       "      <td>0.2 [0.0-0.7]</td>\n",
       "      <td>Male</td>\n",
       "    </tr>\n",
       "    <tr>\n",
       "      <th>...</th>\n",
       "      <td>...</td>\n",
       "      <td>...</td>\n",
       "      <td>...</td>\n",
       "      <td>...</td>\n",
       "      <td>...</td>\n",
       "    </tr>\n",
       "    <tr>\n",
       "      <th>24565</th>\n",
       "      <td>24565</td>\n",
       "      <td>Zimbabwe</td>\n",
       "      <td>2015</td>\n",
       "      <td>4.5 [2.4-7.6]</td>\n",
       "      <td>Male</td>\n",
       "    </tr>\n",
       "    <tr>\n",
       "      <th>24566</th>\n",
       "      <td>24566</td>\n",
       "      <td>Zimbabwe</td>\n",
       "      <td>2015</td>\n",
       "      <td>24.8 [18.9-31.3]</td>\n",
       "      <td>Female</td>\n",
       "    </tr>\n",
       "    <tr>\n",
       "      <th>24567</th>\n",
       "      <td>24567</td>\n",
       "      <td>Zimbabwe</td>\n",
       "      <td>2016</td>\n",
       "      <td>15.5 [12.0-19.2]</td>\n",
       "      <td>Both sexes</td>\n",
       "    </tr>\n",
       "    <tr>\n",
       "      <th>24568</th>\n",
       "      <td>24568</td>\n",
       "      <td>Zimbabwe</td>\n",
       "      <td>2016</td>\n",
       "      <td>4.7 [2.5-8.0]</td>\n",
       "      <td>Male</td>\n",
       "    </tr>\n",
       "    <tr>\n",
       "      <th>24569</th>\n",
       "      <td>24569</td>\n",
       "      <td>Zimbabwe</td>\n",
       "      <td>2016</td>\n",
       "      <td>25.3 [19.1-32.0]</td>\n",
       "      <td>Female</td>\n",
       "    </tr>\n",
       "  </tbody>\n",
       "</table>\n",
       "<p>24570 rows × 5 columns</p>\n",
       "</div>"
      ],
      "text/plain": [
       "       Unnamed: 0      Country  Year       Obesity (%)         Sex\n",
       "0               0  Afghanistan  1975     0.5 [0.2-1.1]  Both sexes\n",
       "1               1  Afghanistan  1975     0.2 [0.0-0.6]        Male\n",
       "2               2  Afghanistan  1975     0.8 [0.2-2.0]      Female\n",
       "3               3  Afghanistan  1976     0.5 [0.2-1.1]  Both sexes\n",
       "4               4  Afghanistan  1976     0.2 [0.0-0.7]        Male\n",
       "...           ...          ...   ...               ...         ...\n",
       "24565       24565     Zimbabwe  2015     4.5 [2.4-7.6]        Male\n",
       "24566       24566     Zimbabwe  2015  24.8 [18.9-31.3]      Female\n",
       "24567       24567     Zimbabwe  2016  15.5 [12.0-19.2]  Both sexes\n",
       "24568       24568     Zimbabwe  2016     4.7 [2.5-8.0]        Male\n",
       "24569       24569     Zimbabwe  2016  25.3 [19.1-32.0]      Female\n",
       "\n",
       "[24570 rows x 5 columns]"
      ]
     },
     "execution_count": 3,
     "metadata": {},
     "output_type": "execute_result"
    }
   ],
   "source": [
    "df_obesity"
   ]
  },
  {
   "cell_type": "code",
   "execution_count": 4,
   "id": "d18065a9",
   "metadata": {},
   "outputs": [
    {
     "name": "stdout",
     "output_type": "stream",
     "text": [
      "<class 'pandas.core.frame.DataFrame'>\n",
      "RangeIndex: 24570 entries, 0 to 24569\n",
      "Data columns (total 5 columns):\n",
      " #   Column       Non-Null Count  Dtype \n",
      "---  ------       --------------  ----- \n",
      " 0   Unnamed: 0   24570 non-null  int64 \n",
      " 1   Country      24570 non-null  object\n",
      " 2   Year         24570 non-null  int64 \n",
      " 3   Obesity (%)  24570 non-null  object\n",
      " 4   Sex          24570 non-null  object\n",
      "dtypes: int64(2), object(3)\n",
      "memory usage: 959.9+ KB\n"
     ]
    }
   ],
   "source": [
    "df_obesity.info()"
   ]
  },
  {
   "cell_type": "markdown",
   "id": "divine-rebel",
   "metadata": {},
   "source": [
    "- Limpe os dados do DataFrame, criando uma coluna de nome 'Obesity' que conterá os valores de obesidade. Transforme em float as colunas que porventura foram importadas como string."
   ]
  },
  {
   "cell_type": "code",
   "execution_count": 5,
   "id": "9685de3c",
   "metadata": {},
   "outputs": [],
   "source": [
    "del df_obesity['Unnamed: 0']"
   ]
  },
  {
   "cell_type": "code",
   "execution_count": 6,
   "id": "81aaa8ba",
   "metadata": {},
   "outputs": [],
   "source": [
    "df_obesity['Obesity'] = df_obesity['Obesity (%)'].apply(lambda x: x.split(' ')[0])"
   ]
  },
  {
   "cell_type": "code",
   "execution_count": 7,
   "id": "ddd99bb0",
   "metadata": {},
   "outputs": [],
   "source": [
    "df_obesity['Obesity'] = pd.to_numeric(df_obesity['Obesity'], errors='coerce')"
   ]
  },
  {
   "cell_type": "code",
   "execution_count": 8,
   "id": "53d70543",
   "metadata": {},
   "outputs": [
    {
     "data": {
      "text/html": [
       "<div>\n",
       "<style scoped>\n",
       "    .dataframe tbody tr th:only-of-type {\n",
       "        vertical-align: middle;\n",
       "    }\n",
       "\n",
       "    .dataframe tbody tr th {\n",
       "        vertical-align: top;\n",
       "    }\n",
       "\n",
       "    .dataframe thead th {\n",
       "        text-align: right;\n",
       "    }\n",
       "</style>\n",
       "<table border=\"1\" class=\"dataframe\">\n",
       "  <thead>\n",
       "    <tr style=\"text-align: right;\">\n",
       "      <th></th>\n",
       "      <th>Country</th>\n",
       "      <th>Year</th>\n",
       "      <th>Obesity (%)</th>\n",
       "      <th>Sex</th>\n",
       "      <th>Obesity</th>\n",
       "    </tr>\n",
       "  </thead>\n",
       "  <tbody>\n",
       "    <tr>\n",
       "      <th>0</th>\n",
       "      <td>Afghanistan</td>\n",
       "      <td>1975</td>\n",
       "      <td>0.5 [0.2-1.1]</td>\n",
       "      <td>Both sexes</td>\n",
       "      <td>0.5</td>\n",
       "    </tr>\n",
       "    <tr>\n",
       "      <th>1</th>\n",
       "      <td>Afghanistan</td>\n",
       "      <td>1975</td>\n",
       "      <td>0.2 [0.0-0.6]</td>\n",
       "      <td>Male</td>\n",
       "      <td>0.2</td>\n",
       "    </tr>\n",
       "    <tr>\n",
       "      <th>2</th>\n",
       "      <td>Afghanistan</td>\n",
       "      <td>1975</td>\n",
       "      <td>0.8 [0.2-2.0]</td>\n",
       "      <td>Female</td>\n",
       "      <td>0.8</td>\n",
       "    </tr>\n",
       "    <tr>\n",
       "      <th>3</th>\n",
       "      <td>Afghanistan</td>\n",
       "      <td>1976</td>\n",
       "      <td>0.5 [0.2-1.1]</td>\n",
       "      <td>Both sexes</td>\n",
       "      <td>0.5</td>\n",
       "    </tr>\n",
       "    <tr>\n",
       "      <th>4</th>\n",
       "      <td>Afghanistan</td>\n",
       "      <td>1976</td>\n",
       "      <td>0.2 [0.0-0.7]</td>\n",
       "      <td>Male</td>\n",
       "      <td>0.2</td>\n",
       "    </tr>\n",
       "    <tr>\n",
       "      <th>...</th>\n",
       "      <td>...</td>\n",
       "      <td>...</td>\n",
       "      <td>...</td>\n",
       "      <td>...</td>\n",
       "      <td>...</td>\n",
       "    </tr>\n",
       "    <tr>\n",
       "      <th>24565</th>\n",
       "      <td>Zimbabwe</td>\n",
       "      <td>2015</td>\n",
       "      <td>4.5 [2.4-7.6]</td>\n",
       "      <td>Male</td>\n",
       "      <td>4.5</td>\n",
       "    </tr>\n",
       "    <tr>\n",
       "      <th>24566</th>\n",
       "      <td>Zimbabwe</td>\n",
       "      <td>2015</td>\n",
       "      <td>24.8 [18.9-31.3]</td>\n",
       "      <td>Female</td>\n",
       "      <td>24.8</td>\n",
       "    </tr>\n",
       "    <tr>\n",
       "      <th>24567</th>\n",
       "      <td>Zimbabwe</td>\n",
       "      <td>2016</td>\n",
       "      <td>15.5 [12.0-19.2]</td>\n",
       "      <td>Both sexes</td>\n",
       "      <td>15.5</td>\n",
       "    </tr>\n",
       "    <tr>\n",
       "      <th>24568</th>\n",
       "      <td>Zimbabwe</td>\n",
       "      <td>2016</td>\n",
       "      <td>4.7 [2.5-8.0]</td>\n",
       "      <td>Male</td>\n",
       "      <td>4.7</td>\n",
       "    </tr>\n",
       "    <tr>\n",
       "      <th>24569</th>\n",
       "      <td>Zimbabwe</td>\n",
       "      <td>2016</td>\n",
       "      <td>25.3 [19.1-32.0]</td>\n",
       "      <td>Female</td>\n",
       "      <td>25.3</td>\n",
       "    </tr>\n",
       "  </tbody>\n",
       "</table>\n",
       "<p>24570 rows × 5 columns</p>\n",
       "</div>"
      ],
      "text/plain": [
       "           Country  Year       Obesity (%)         Sex  Obesity\n",
       "0      Afghanistan  1975     0.5 [0.2-1.1]  Both sexes      0.5\n",
       "1      Afghanistan  1975     0.2 [0.0-0.6]        Male      0.2\n",
       "2      Afghanistan  1975     0.8 [0.2-2.0]      Female      0.8\n",
       "3      Afghanistan  1976     0.5 [0.2-1.1]  Both sexes      0.5\n",
       "4      Afghanistan  1976     0.2 [0.0-0.7]        Male      0.2\n",
       "...            ...   ...               ...         ...      ...\n",
       "24565     Zimbabwe  2015     4.5 [2.4-7.6]        Male      4.5\n",
       "24566     Zimbabwe  2015  24.8 [18.9-31.3]      Female     24.8\n",
       "24567     Zimbabwe  2016  15.5 [12.0-19.2]  Both sexes     15.5\n",
       "24568     Zimbabwe  2016     4.7 [2.5-8.0]        Male      4.7\n",
       "24569     Zimbabwe  2016  25.3 [19.1-32.0]      Female     25.3\n",
       "\n",
       "[24570 rows x 5 columns]"
      ]
     },
     "execution_count": 8,
     "metadata": {},
     "output_type": "execute_result"
    }
   ],
   "source": [
    "df_obesity"
   ]
  },
  {
   "cell_type": "code",
   "execution_count": 9,
   "id": "aaf9e17e",
   "metadata": {},
   "outputs": [
    {
     "name": "stdout",
     "output_type": "stream",
     "text": [
      "<class 'pandas.core.frame.DataFrame'>\n",
      "RangeIndex: 24570 entries, 0 to 24569\n",
      "Data columns (total 5 columns):\n",
      " #   Column       Non-Null Count  Dtype  \n",
      "---  ------       --------------  -----  \n",
      " 0   Country      24570 non-null  object \n",
      " 1   Year         24570 non-null  int64  \n",
      " 2   Obesity (%)  24570 non-null  object \n",
      " 3   Sex          24570 non-null  object \n",
      " 4   Obesity      24066 non-null  float64\n",
      "dtypes: float64(1), int64(1), object(3)\n",
      "memory usage: 959.9+ KB\n"
     ]
    }
   ],
   "source": [
    "df_obesity.info() ## Após mudanças"
   ]
  },
  {
   "cell_type": "markdown",
   "id": "voluntary-temperature",
   "metadata": {},
   "source": [
    "- Qual o percentual médio de obesidade por sexo no mundo no ano de 2015?"
   ]
  },
  {
   "cell_type": "code",
   "execution_count": 10,
   "id": "afraid-reminder",
   "metadata": {},
   "outputs": [
    {
     "data": {
      "text/plain": [
       "Sex\n",
       "Both sexes    19.508377\n",
       "Female        22.899476\n",
       "Male          15.980628\n",
       "Name: Obesity, dtype: float64"
      ]
     },
     "execution_count": 10,
     "metadata": {},
     "output_type": "execute_result"
    }
   ],
   "source": [
    "df_obesity[df_obesity['Year'] == 2015].groupby('Sex')['Obesity'].mean()"
   ]
  },
  {
   "cell_type": "markdown",
   "id": "expected-kruger",
   "metadata": {},
   "source": [
    "- Quais são os 5 países com a maior e a menor taxa de aumento nos índices de obesidade no período observado?"
   ]
  },
  {
   "cell_type": "code",
   "execution_count": 11,
   "id": "eaf6a342",
   "metadata": {},
   "outputs": [],
   "source": [
    "df_obesity_min = df_obesity[df_obesity['Year'] == 1975]\n",
    "df_obesity_max = df_obesity[df_obesity['Year'] == 2016]"
   ]
  },
  {
   "cell_type": "code",
   "execution_count": 12,
   "id": "4a172a10",
   "metadata": {},
   "outputs": [],
   "source": [
    "df_obesity_min.set_index('Country', inplace=True)\n",
    "df_obesity_max.set_index('Country', inplace=True)"
   ]
  },
  {
   "cell_type": "code",
   "execution_count": 13,
   "id": "894b2c4f",
   "metadata": {},
   "outputs": [],
   "source": [
    "df_obesity_variance = df_obesity_max['Obesity'] - df_obesity_min['Obesity']"
   ]
  },
  {
   "cell_type": "code",
   "execution_count": 14,
   "id": "b8f9bbf1",
   "metadata": {},
   "outputs": [],
   "source": [
    "df_obesity_variance = df_obesity_variance.groupby('Country').mean()"
   ]
  },
  {
   "cell_type": "code",
   "execution_count": 15,
   "id": "2baee6df",
   "metadata": {},
   "outputs": [
    {
     "data": {
      "text/plain": [
       "Country\n",
       "Viet Nam       1.966667\n",
       "Singapore      3.066667\n",
       "Japan          3.266667\n",
       "Bangladesh     3.400000\n",
       "Timor-Leste    3.533333\n",
       "Name: Obesity, dtype: float64"
      ]
     },
     "execution_count": 15,
     "metadata": {},
     "output_type": "execute_result"
    }
   ],
   "source": [
    "df_obesity_variance.sort_values().dropna().head(5)"
   ]
  },
  {
   "cell_type": "code",
   "execution_count": 16,
   "id": "da3d3ea8",
   "metadata": {},
   "outputs": [
    {
     "data": {
      "text/plain": [
       "Country\n",
       "Cook Islands    27.866667\n",
       "Tonga           28.100000\n",
       "Kiribati        30.000000\n",
       "Niue            31.000000\n",
       "Tuvalu          33.666667\n",
       "Name: Obesity, dtype: float64"
      ]
     },
     "execution_count": 16,
     "metadata": {},
     "output_type": "execute_result"
    }
   ],
   "source": [
    "df_obesity_variance.sort_values().dropna().tail(5)"
   ]
  },
  {
   "cell_type": "markdown",
   "id": "average-holiday",
   "metadata": {},
   "source": [
    "- Qual a diferença média percentual de obesidade entre sexos ao longo dos anos para o Brasil?"
   ]
  },
  {
   "cell_type": "code",
   "execution_count": 17,
   "id": "51d30e60",
   "metadata": {},
   "outputs": [],
   "source": [
    "df_brasil = df_obesity[df_obesity['Country'] == 'Brazil']"
   ]
  },
  {
   "cell_type": "code",
   "execution_count": 18,
   "id": "8c64de8e",
   "metadata": {},
   "outputs": [],
   "source": [
    "df_brasil.set_index('Year', inplace=True)"
   ]
  },
  {
   "cell_type": "code",
   "execution_count": 19,
   "id": "4cc07376",
   "metadata": {},
   "outputs": [
    {
     "data": {
      "text/html": [
       "<div>\n",
       "<style scoped>\n",
       "    .dataframe tbody tr th:only-of-type {\n",
       "        vertical-align: middle;\n",
       "    }\n",
       "\n",
       "    .dataframe tbody tr th {\n",
       "        vertical-align: top;\n",
       "    }\n",
       "\n",
       "    .dataframe thead th {\n",
       "        text-align: right;\n",
       "    }\n",
       "</style>\n",
       "<table border=\"1\" class=\"dataframe\">\n",
       "  <thead>\n",
       "    <tr style=\"text-align: right;\">\n",
       "      <th></th>\n",
       "      <th>Country</th>\n",
       "      <th>Obesity (%)</th>\n",
       "      <th>Sex</th>\n",
       "      <th>Obesity</th>\n",
       "    </tr>\n",
       "    <tr>\n",
       "      <th>Year</th>\n",
       "      <th></th>\n",
       "      <th></th>\n",
       "      <th></th>\n",
       "      <th></th>\n",
       "    </tr>\n",
       "  </thead>\n",
       "  <tbody>\n",
       "    <tr>\n",
       "      <th>1975</th>\n",
       "      <td>Brazil</td>\n",
       "      <td>5.2 [3.3-7.9]</td>\n",
       "      <td>Both sexes</td>\n",
       "      <td>5.2</td>\n",
       "    </tr>\n",
       "    <tr>\n",
       "      <th>1975</th>\n",
       "      <td>Brazil</td>\n",
       "      <td>3.0 [1.4-5.7]</td>\n",
       "      <td>Male</td>\n",
       "      <td>3.0</td>\n",
       "    </tr>\n",
       "    <tr>\n",
       "      <th>1975</th>\n",
       "      <td>Brazil</td>\n",
       "      <td>7.3 [4.0-12.0]</td>\n",
       "      <td>Female</td>\n",
       "      <td>7.3</td>\n",
       "    </tr>\n",
       "    <tr>\n",
       "      <th>1976</th>\n",
       "      <td>Brazil</td>\n",
       "      <td>5.5 [3.5-8.1]</td>\n",
       "      <td>Both sexes</td>\n",
       "      <td>5.5</td>\n",
       "    </tr>\n",
       "    <tr>\n",
       "      <th>1976</th>\n",
       "      <td>Brazil</td>\n",
       "      <td>3.2 [1.5-5.8]</td>\n",
       "      <td>Male</td>\n",
       "      <td>3.2</td>\n",
       "    </tr>\n",
       "    <tr>\n",
       "      <th>...</th>\n",
       "      <td>...</td>\n",
       "      <td>...</td>\n",
       "      <td>...</td>\n",
       "      <td>...</td>\n",
       "    </tr>\n",
       "    <tr>\n",
       "      <th>2015</th>\n",
       "      <td>Brazil</td>\n",
       "      <td>18.0 [13.9-22.6]</td>\n",
       "      <td>Male</td>\n",
       "      <td>18.0</td>\n",
       "    </tr>\n",
       "    <tr>\n",
       "      <th>2015</th>\n",
       "      <td>Brazil</td>\n",
       "      <td>24.9 [20.3-29.8]</td>\n",
       "      <td>Female</td>\n",
       "      <td>24.9</td>\n",
       "    </tr>\n",
       "    <tr>\n",
       "      <th>2016</th>\n",
       "      <td>Brazil</td>\n",
       "      <td>22.1 [18.7-25.7]</td>\n",
       "      <td>Both sexes</td>\n",
       "      <td>22.1</td>\n",
       "    </tr>\n",
       "    <tr>\n",
       "      <th>2016</th>\n",
       "      <td>Brazil</td>\n",
       "      <td>18.5 [14.1-23.5]</td>\n",
       "      <td>Male</td>\n",
       "      <td>18.5</td>\n",
       "    </tr>\n",
       "    <tr>\n",
       "      <th>2016</th>\n",
       "      <td>Brazil</td>\n",
       "      <td>25.4 [20.4-30.7]</td>\n",
       "      <td>Female</td>\n",
       "      <td>25.4</td>\n",
       "    </tr>\n",
       "  </tbody>\n",
       "</table>\n",
       "<p>126 rows × 4 columns</p>\n",
       "</div>"
      ],
      "text/plain": [
       "     Country       Obesity (%)         Sex  Obesity\n",
       "Year                                               \n",
       "1975  Brazil     5.2 [3.3-7.9]  Both sexes      5.2\n",
       "1975  Brazil     3.0 [1.4-5.7]        Male      3.0\n",
       "1975  Brazil    7.3 [4.0-12.0]      Female      7.3\n",
       "1976  Brazil     5.5 [3.5-8.1]  Both sexes      5.5\n",
       "1976  Brazil     3.2 [1.5-5.8]        Male      3.2\n",
       "...      ...               ...         ...      ...\n",
       "2015  Brazil  18.0 [13.9-22.6]        Male     18.0\n",
       "2015  Brazil  24.9 [20.3-29.8]      Female     24.9\n",
       "2016  Brazil  22.1 [18.7-25.7]  Both sexes     22.1\n",
       "2016  Brazil  18.5 [14.1-23.5]        Male     18.5\n",
       "2016  Brazil  25.4 [20.4-30.7]      Female     25.4\n",
       "\n",
       "[126 rows x 4 columns]"
      ]
     },
     "execution_count": 19,
     "metadata": {},
     "output_type": "execute_result"
    }
   ],
   "source": [
    "df_brasil"
   ]
  },
  {
   "cell_type": "code",
   "execution_count": 20,
   "id": "6585daf5",
   "metadata": {},
   "outputs": [
    {
     "data": {
      "text/plain": [
       "Year\n",
       "1975    4.3\n",
       "1976    4.4\n",
       "1977    4.6\n",
       "1978    4.7\n",
       "1979    4.9\n",
       "1980    4.9\n",
       "1981    5.1\n",
       "1982    5.2\n",
       "1983    5.4\n",
       "1984    5.5\n",
       "1985    5.6\n",
       "1986    5.7\n",
       "1987    5.8\n",
       "1988    5.9\n",
       "1989    6.0\n",
       "1990    6.1\n",
       "1991    6.1\n",
       "1992    6.3\n",
       "1993    6.3\n",
       "1994    6.4\n",
       "1995    6.4\n",
       "1996    6.5\n",
       "1997    6.6\n",
       "1998    6.7\n",
       "1999    6.8\n",
       "2000    6.8\n",
       "2001    6.8\n",
       "2002    6.8\n",
       "2003    6.9\n",
       "2004    6.9\n",
       "2005    6.9\n",
       "2006    6.9\n",
       "2007    7.0\n",
       "2008    6.9\n",
       "2009    7.0\n",
       "2010    7.0\n",
       "2011    6.9\n",
       "2012    6.9\n",
       "2013    6.9\n",
       "2014    6.9\n",
       "2015    6.9\n",
       "2016    6.9\n",
       "Name: Obesity, dtype: float64"
      ]
     },
     "execution_count": 20,
     "metadata": {},
     "output_type": "execute_result"
    }
   ],
   "source": [
    "(df_brasil[df_brasil['Sex'] == 'Female']['Obesity']) - (df_brasil[df_brasil['Sex'] == 'Male']['Obesity'])"
   ]
  },
  {
   "cell_type": "markdown",
   "id": "rising-exhaust",
   "metadata": {},
   "source": [
    "- Você conseguiria plotar um gráfico mostrando a evolução da obesidade para ambos sexos no mundo?"
   ]
  },
  {
   "cell_type": "code",
   "execution_count": 21,
   "id": "senior-recruitment",
   "metadata": {},
   "outputs": [
    {
     "data": {
      "text/plain": [
       "<Axes: xlabel='Year'>"
      ]
     },
     "execution_count": 21,
     "metadata": {},
     "output_type": "execute_result"
    },
    {
     "data": {
      "image/png": "[encoded data removed]",
      "text/plain": [
       "<Figure size 640x480 with 1 Axes>"
      ]
     },
     "metadata": {},
     "output_type": "display_data"
    }
   ],
   "source": [
    "(df_brasil[df_brasil['Sex'] == 'Female']['Obesity'] - df_brasil[df_brasil['Sex'] == 'Male']['Obesity']).plot()"
   ]
  },
  {
   "cell_type": "markdown",
   "id": "labeled-rainbow",
   "metadata": {},
   "source": [
    "## Perguntas - GDP Per Person (1901-2011)"
   ]
  },
  {
   "cell_type": "code",
   "execution_count": 22,
   "id": "thermal-breeding",
   "metadata": {},
   "outputs": [],
   "source": [
    "df_gdp = pd.read_csv(\"GDP.csv\", decimal=\".\")"
   ]
  },
  {
   "cell_type": "markdown",
   "id": "suffering-guitar",
   "metadata": {},
   "source": [
    "- Limpe o conjunto de dados, convertendo strings em datas ou float, quando necessário."
   ]
  },
  {
   "cell_type": "code",
   "execution_count": 23,
   "id": "fundamental-occasions",
   "metadata": {},
   "outputs": [
    {
     "data": {
      "text/html": [
       "<div>\n",
       "<style scoped>\n",
       "    .dataframe tbody tr th:only-of-type {\n",
       "        vertical-align: middle;\n",
       "    }\n",
       "\n",
       "    .dataframe tbody tr th {\n",
       "        vertical-align: top;\n",
       "    }\n",
       "\n",
       "    .dataframe thead th {\n",
       "        text-align: right;\n",
       "    }\n",
       "</style>\n",
       "<table border=\"1\" class=\"dataframe\">\n",
       "  <thead>\n",
       "    <tr style=\"text-align: right;\">\n",
       "      <th></th>\n",
       "      <th>Country</th>\n",
       "      <th>Region</th>\n",
       "      <th>Year</th>\n",
       "      <th>GDP_pp</th>\n",
       "    </tr>\n",
       "  </thead>\n",
       "  <tbody>\n",
       "    <tr>\n",
       "      <th>0</th>\n",
       "      <td>Afghanistan</td>\n",
       "      <td>Middle East, North Africa, and Greater Arabia</td>\n",
       "      <td>1/1/1901</td>\n",
       "      <td>613.99</td>\n",
       "    </tr>\n",
       "    <tr>\n",
       "      <th>1</th>\n",
       "      <td>Afghanistan</td>\n",
       "      <td>Middle East, North Africa, and Greater Arabia</td>\n",
       "      <td>1/1/1906</td>\n",
       "      <td>624.04</td>\n",
       "    </tr>\n",
       "    <tr>\n",
       "      <th>2</th>\n",
       "      <td>Afghanistan</td>\n",
       "      <td>Middle East, North Africa, and Greater Arabia</td>\n",
       "      <td>1/1/1911</td>\n",
       "      <td>634.25</td>\n",
       "    </tr>\n",
       "    <tr>\n",
       "      <th>3</th>\n",
       "      <td>Afghanistan</td>\n",
       "      <td>Middle East, North Africa, and Greater Arabia</td>\n",
       "      <td>1/1/1916</td>\n",
       "      <td>647.28</td>\n",
       "    </tr>\n",
       "    <tr>\n",
       "      <th>4</th>\n",
       "      <td>Afghanistan</td>\n",
       "      <td>Middle East, North Africa, and Greater Arabia</td>\n",
       "      <td>1/1/1921</td>\n",
       "      <td>662.40</td>\n",
       "    </tr>\n",
       "    <tr>\n",
       "      <th>...</th>\n",
       "      <td>...</td>\n",
       "      <td>...</td>\n",
       "      <td>...</td>\n",
       "      <td>...</td>\n",
       "    </tr>\n",
       "    <tr>\n",
       "      <th>4414</th>\n",
       "      <td>Zimbabwe</td>\n",
       "      <td>Sub-Saharan Africa</td>\n",
       "      <td>1/1/1991</td>\n",
       "      <td>782.09</td>\n",
       "    </tr>\n",
       "    <tr>\n",
       "      <th>4415</th>\n",
       "      <td>Zimbabwe</td>\n",
       "      <td>Sub-Saharan Africa</td>\n",
       "      <td>1/1/1996</td>\n",
       "      <td>781.50</td>\n",
       "    </tr>\n",
       "    <tr>\n",
       "      <th>4416</th>\n",
       "      <td>Zimbabwe</td>\n",
       "      <td>Sub-Saharan Africa</td>\n",
       "      <td>1/1/2001</td>\n",
       "      <td>719.96</td>\n",
       "    </tr>\n",
       "    <tr>\n",
       "      <th>4417</th>\n",
       "      <td>Zimbabwe</td>\n",
       "      <td>Sub-Saharan Africa</td>\n",
       "      <td>1/1/2006</td>\n",
       "      <td>520.17</td>\n",
       "    </tr>\n",
       "    <tr>\n",
       "      <th>4418</th>\n",
       "      <td>Zimbabwe</td>\n",
       "      <td>Sub-Saharan Africa</td>\n",
       "      <td>1/1/2011</td>\n",
       "      <td>526.33</td>\n",
       "    </tr>\n",
       "  </tbody>\n",
       "</table>\n",
       "<p>4419 rows × 4 columns</p>\n",
       "</div>"
      ],
      "text/plain": [
       "          Country                                         Region      Year  \\\n",
       "0     Afghanistan  Middle East, North Africa, and Greater Arabia  1/1/1901   \n",
       "1     Afghanistan  Middle East, North Africa, and Greater Arabia  1/1/1906   \n",
       "2     Afghanistan  Middle East, North Africa, and Greater Arabia  1/1/1911   \n",
       "3     Afghanistan  Middle East, North Africa, and Greater Arabia  1/1/1916   \n",
       "4     Afghanistan  Middle East, North Africa, and Greater Arabia  1/1/1921   \n",
       "...           ...                                            ...       ...   \n",
       "4414     Zimbabwe                             Sub-Saharan Africa  1/1/1991   \n",
       "4415     Zimbabwe                             Sub-Saharan Africa  1/1/1996   \n",
       "4416     Zimbabwe                             Sub-Saharan Africa  1/1/2001   \n",
       "4417     Zimbabwe                             Sub-Saharan Africa  1/1/2006   \n",
       "4418     Zimbabwe                             Sub-Saharan Africa  1/1/2011   \n",
       "\n",
       "       GDP_pp   \n",
       "0      613.99   \n",
       "1      624.04   \n",
       "2      634.25   \n",
       "3      647.28   \n",
       "4      662.40   \n",
       "...        ...  \n",
       "4414   782.09   \n",
       "4415   781.50   \n",
       "4416   719.96   \n",
       "4417   520.17   \n",
       "4418   526.33   \n",
       "\n",
       "[4419 rows x 4 columns]"
      ]
     },
     "execution_count": 23,
     "metadata": {},
     "output_type": "execute_result"
    }
   ],
   "source": [
    "df_gdp"
   ]
  },
  {
   "cell_type": "code",
   "execution_count": 24,
   "id": "8eff72ea",
   "metadata": {},
   "outputs": [
    {
     "name": "stdout",
     "output_type": "stream",
     "text": [
      "<class 'pandas.core.frame.DataFrame'>\n",
      "RangeIndex: 4419 entries, 0 to 4418\n",
      "Data columns (total 4 columns):\n",
      " #   Column    Non-Null Count  Dtype \n",
      "---  ------    --------------  ----- \n",
      " 0   Country   4419 non-null   object\n",
      " 1   Region    4419 non-null   object\n",
      " 2   Year      4419 non-null   object\n",
      " 3    GDP_pp   4419 non-null   object\n",
      "dtypes: object(4)\n",
      "memory usage: 138.2+ KB\n"
     ]
    }
   ],
   "source": [
    "df_gdp.info()"
   ]
  },
  {
   "cell_type": "code",
   "execution_count": 25,
   "id": "639e4178",
   "metadata": {},
   "outputs": [
    {
     "data": {
      "text/plain": [
       "Index(['Country', 'Region', 'Year', ' GDP_pp '], dtype='object')"
      ]
     },
     "execution_count": 25,
     "metadata": {},
     "output_type": "execute_result"
    }
   ],
   "source": [
    "df_gdp.columns"
   ]
  },
  {
   "cell_type": "code",
   "execution_count": 26,
   "id": "bfe81eda",
   "metadata": {},
   "outputs": [],
   "source": [
    "df_gdp['GDP_pp'] = df_gdp[' GDP_pp '].str.replace(\",\", \"\")"
   ]
  },
  {
   "cell_type": "code",
   "execution_count": 27,
   "id": "7d08463a",
   "metadata": {},
   "outputs": [],
   "source": [
    "del df_gdp[' GDP_pp ']"
   ]
  },
  {
   "cell_type": "code",
   "execution_count": 28,
   "id": "d27b84dd",
   "metadata": {},
   "outputs": [],
   "source": [
    "df_gdp['GDP_pp'] = pd.to_numeric(df_gdp['GDP_pp'])"
   ]
  },
  {
   "cell_type": "code",
   "execution_count": 29,
   "id": "4fbf2124",
   "metadata": {},
   "outputs": [],
   "source": [
    "df_gdp['Year'] = pd.to_datetime(df_gdp['Year']).dt.year"
   ]
  },
  {
   "cell_type": "code",
   "execution_count": 30,
   "id": "e56b25c7",
   "metadata": {},
   "outputs": [
    {
     "name": "stdout",
     "output_type": "stream",
     "text": [
      "<class 'pandas.core.frame.DataFrame'>\n",
      "RangeIndex: 4419 entries, 0 to 4418\n",
      "Data columns (total 4 columns):\n",
      " #   Column   Non-Null Count  Dtype  \n",
      "---  ------   --------------  -----  \n",
      " 0   Country  4419 non-null   object \n",
      " 1   Region   4419 non-null   object \n",
      " 2   Year     4419 non-null   int32  \n",
      " 3   GDP_pp   4419 non-null   float64\n",
      "dtypes: float64(1), int32(1), object(2)\n",
      "memory usage: 121.0+ KB\n"
     ]
    }
   ],
   "source": [
    "df_gdp.info()"
   ]
  },
  {
   "cell_type": "code",
   "execution_count": 31,
   "id": "2b9ed8a9",
   "metadata": {},
   "outputs": [
    {
     "data": {
      "text/html": [
       "<div>\n",
       "<style scoped>\n",
       "    .dataframe tbody tr th:only-of-type {\n",
       "        vertical-align: middle;\n",
       "    }\n",
       "\n",
       "    .dataframe tbody tr th {\n",
       "        vertical-align: top;\n",
       "    }\n",
       "\n",
       "    .dataframe thead th {\n",
       "        text-align: right;\n",
       "    }\n",
       "</style>\n",
       "<table border=\"1\" class=\"dataframe\">\n",
       "  <thead>\n",
       "    <tr style=\"text-align: right;\">\n",
       "      <th></th>\n",
       "      <th>Country</th>\n",
       "      <th>Region</th>\n",
       "      <th>Year</th>\n",
       "      <th>GDP_pp</th>\n",
       "    </tr>\n",
       "  </thead>\n",
       "  <tbody>\n",
       "    <tr>\n",
       "      <th>0</th>\n",
       "      <td>Afghanistan</td>\n",
       "      <td>Middle East, North Africa, and Greater Arabia</td>\n",
       "      <td>1901</td>\n",
       "      <td>613.99</td>\n",
       "    </tr>\n",
       "    <tr>\n",
       "      <th>1</th>\n",
       "      <td>Afghanistan</td>\n",
       "      <td>Middle East, North Africa, and Greater Arabia</td>\n",
       "      <td>1906</td>\n",
       "      <td>624.04</td>\n",
       "    </tr>\n",
       "    <tr>\n",
       "      <th>2</th>\n",
       "      <td>Afghanistan</td>\n",
       "      <td>Middle East, North Africa, and Greater Arabia</td>\n",
       "      <td>1911</td>\n",
       "      <td>634.25</td>\n",
       "    </tr>\n",
       "    <tr>\n",
       "      <th>3</th>\n",
       "      <td>Afghanistan</td>\n",
       "      <td>Middle East, North Africa, and Greater Arabia</td>\n",
       "      <td>1916</td>\n",
       "      <td>647.28</td>\n",
       "    </tr>\n",
       "    <tr>\n",
       "      <th>4</th>\n",
       "      <td>Afghanistan</td>\n",
       "      <td>Middle East, North Africa, and Greater Arabia</td>\n",
       "      <td>1921</td>\n",
       "      <td>662.40</td>\n",
       "    </tr>\n",
       "  </tbody>\n",
       "</table>\n",
       "</div>"
      ],
      "text/plain": [
       "       Country                                         Region  Year  GDP_pp\n",
       "0  Afghanistan  Middle East, North Africa, and Greater Arabia  1901  613.99\n",
       "1  Afghanistan  Middle East, North Africa, and Greater Arabia  1906  624.04\n",
       "2  Afghanistan  Middle East, North Africa, and Greater Arabia  1911  634.25\n",
       "3  Afghanistan  Middle East, North Africa, and Greater Arabia  1916  647.28\n",
       "4  Afghanistan  Middle East, North Africa, and Greater Arabia  1921  662.40"
      ]
     },
     "execution_count": 31,
     "metadata": {},
     "output_type": "execute_result"
    }
   ],
   "source": [
    "df_gdp.head()"
   ]
  },
  {
   "cell_type": "markdown",
   "id": "studied-validity",
   "metadata": {},
   "source": [
    "- Você conseguiria informar o primeiro valor registrado de cada país?"
   ]
  },
  {
   "cell_type": "code",
   "execution_count": 32,
   "id": "frequent-rental",
   "metadata": {},
   "outputs": [
    {
     "data": {
      "text/html": [
       "<div>\n",
       "<style scoped>\n",
       "    .dataframe tbody tr th:only-of-type {\n",
       "        vertical-align: middle;\n",
       "    }\n",
       "\n",
       "    .dataframe tbody tr th {\n",
       "        vertical-align: top;\n",
       "    }\n",
       "\n",
       "    .dataframe thead th {\n",
       "        text-align: right;\n",
       "    }\n",
       "</style>\n",
       "<table border=\"1\" class=\"dataframe\">\n",
       "  <thead>\n",
       "    <tr style=\"text-align: right;\">\n",
       "      <th></th>\n",
       "      <th>Country</th>\n",
       "      <th>Region</th>\n",
       "      <th>Year</th>\n",
       "      <th>GDP_pp</th>\n",
       "    </tr>\n",
       "  </thead>\n",
       "  <tbody>\n",
       "    <tr>\n",
       "      <th>0</th>\n",
       "      <td>Afghanistan</td>\n",
       "      <td>Middle East, North Africa, and Greater Arabia</td>\n",
       "      <td>1901</td>\n",
       "      <td>613.99</td>\n",
       "    </tr>\n",
       "    <tr>\n",
       "      <th>23</th>\n",
       "      <td>Albania</td>\n",
       "      <td>Europe</td>\n",
       "      <td>1901</td>\n",
       "      <td>1062.01</td>\n",
       "    </tr>\n",
       "    <tr>\n",
       "      <th>46</th>\n",
       "      <td>Algeria</td>\n",
       "      <td>Middle East, North Africa, and Greater Arabia</td>\n",
       "      <td>1901</td>\n",
       "      <td>1807.76</td>\n",
       "    </tr>\n",
       "    <tr>\n",
       "      <th>69</th>\n",
       "      <td>Andorra</td>\n",
       "      <td>Europe</td>\n",
       "      <td>1901</td>\n",
       "      <td>3352.50</td>\n",
       "    </tr>\n",
       "    <tr>\n",
       "      <th>92</th>\n",
       "      <td>Angola</td>\n",
       "      <td>Sub-Saharan Africa</td>\n",
       "      <td>1901</td>\n",
       "      <td>525.76</td>\n",
       "    </tr>\n",
       "    <tr>\n",
       "      <th>...</th>\n",
       "      <td>...</td>\n",
       "      <td>...</td>\n",
       "      <td>...</td>\n",
       "      <td>...</td>\n",
       "    </tr>\n",
       "    <tr>\n",
       "      <th>4304</th>\n",
       "      <td>Venezuela</td>\n",
       "      <td>South America</td>\n",
       "      <td>1901</td>\n",
       "      <td>766.21</td>\n",
       "    </tr>\n",
       "    <tr>\n",
       "      <th>4327</th>\n",
       "      <td>Vietnam</td>\n",
       "      <td>Asia</td>\n",
       "      <td>1901</td>\n",
       "      <td>572.96</td>\n",
       "    </tr>\n",
       "    <tr>\n",
       "      <th>4350</th>\n",
       "      <td>Yemen, Rep.</td>\n",
       "      <td>Middle East, North Africa, and Greater Arabia</td>\n",
       "      <td>1901</td>\n",
       "      <td>729.39</td>\n",
       "    </tr>\n",
       "    <tr>\n",
       "      <th>4373</th>\n",
       "      <td>Zambia</td>\n",
       "      <td>Sub-Saharan Africa</td>\n",
       "      <td>1901</td>\n",
       "      <td>532.38</td>\n",
       "    </tr>\n",
       "    <tr>\n",
       "      <th>4396</th>\n",
       "      <td>Zimbabwe</td>\n",
       "      <td>Sub-Saharan Africa</td>\n",
       "      <td>1901</td>\n",
       "      <td>385.69</td>\n",
       "    </tr>\n",
       "  </tbody>\n",
       "</table>\n",
       "<p>192 rows × 4 columns</p>\n",
       "</div>"
      ],
      "text/plain": [
       "          Country                                         Region  Year  \\\n",
       "0     Afghanistan  Middle East, North Africa, and Greater Arabia  1901   \n",
       "23        Albania                                         Europe  1901   \n",
       "46        Algeria  Middle East, North Africa, and Greater Arabia  1901   \n",
       "69        Andorra                                         Europe  1901   \n",
       "92         Angola                             Sub-Saharan Africa  1901   \n",
       "...           ...                                            ...   ...   \n",
       "4304    Venezuela                                  South America  1901   \n",
       "4327      Vietnam                                           Asia  1901   \n",
       "4350  Yemen, Rep.  Middle East, North Africa, and Greater Arabia  1901   \n",
       "4373       Zambia                             Sub-Saharan Africa  1901   \n",
       "4396     Zimbabwe                             Sub-Saharan Africa  1901   \n",
       "\n",
       "       GDP_pp  \n",
       "0      613.99  \n",
       "23    1062.01  \n",
       "46    1807.76  \n",
       "69    3352.50  \n",
       "92     525.76  \n",
       "...       ...  \n",
       "4304   766.21  \n",
       "4327   572.96  \n",
       "4350   729.39  \n",
       "4373   532.38  \n",
       "4396   385.69  \n",
       "\n",
       "[192 rows x 4 columns]"
      ]
     },
     "execution_count": 32,
     "metadata": {},
     "output_type": "execute_result"
    }
   ],
   "source": [
    "df_gdp[df_gdp['Year'] == 1901]"
   ]
  },
  {
   "cell_type": "markdown",
   "id": "tutorial-softball",
   "metadata": {},
   "source": [
    "- Informe as regiões com maiores crescimentos de PIB per capita no século passado."
   ]
  },
  {
   "cell_type": "code",
   "execution_count": 33,
   "id": "given-colorado",
   "metadata": {},
   "outputs": [],
   "source": [
    "df_gdp_start = df_gdp[df_gdp['Year'] == 1901]\n",
    "df_gdp_end = df_gdp[df_gdp['Year'] == 1996]"
   ]
  },
  {
   "cell_type": "code",
   "execution_count": 34,
   "id": "c71bd9aa",
   "metadata": {},
   "outputs": [],
   "source": [
    "df_gdp_start.set_index('Region', inplace=True)\n",
    "df_gdp_end.set_index('Region', inplace=True)"
   ]
  },
  {
   "cell_type": "code",
   "execution_count": 35,
   "id": "73e4e51d",
   "metadata": {},
   "outputs": [
    {
     "data": {
      "text/plain": [
       "Region\n",
       "Middle East, North Africa, and Greater Arabia    857.215950\n",
       "Asia                                             711.761516\n",
       "Europe                                           594.046167\n",
       "North America                                    589.760175\n",
       "Central America and the Caribbean                406.426789\n",
       "Name: GDP_pp, dtype: float64"
      ]
     },
     "execution_count": 35,
     "metadata": {},
     "output_type": "execute_result"
    }
   ],
   "source": [
    "((df_gdp_end.groupby('Region')['GDP_pp'].mean() / df_gdp_start.groupby('Region')['GDP_pp'].mean()-1)*100).sort_values(ascending=False).head()"
   ]
  },
  {
   "cell_type": "code",
   "execution_count": 36,
   "id": "5e5e81f3",
   "metadata": {},
   "outputs": [
    {
     "data": {
      "text/plain": [
       "Region\n",
       "Sub-Saharan Africa                   248.633780\n",
       "South America                        312.123735\n",
       "Australia and Oceania                396.075383\n",
       "Central America and the Caribbean    406.426789\n",
       "North America                        589.760175\n",
       "Name: GDP_pp, dtype: float64"
      ]
     },
     "execution_count": 36,
     "metadata": {},
     "output_type": "execute_result"
    }
   ],
   "source": [
    "((df_gdp_end.groupby('Region')['GDP_pp'].mean() / df_gdp_start.groupby('Region')['GDP_pp'].mean()-1)*100).sort_values(ascending=True).head()"
   ]
  },
  {
   "cell_type": "markdown",
   "id": "textile-afternoon",
   "metadata": {},
   "source": [
    "- Preecha os anos ausentes em cada país com uma estimativa, baseada na diferença entre o próximo registro e o anterior."
   ]
  },
  {
   "cell_type": "code",
   "execution_count": 57,
   "id": "e6811078",
   "metadata": {},
   "outputs": [],
   "source": [
    "arr_year = np.arange(df_gdp['Year'].min(),df_gdp['Year'].max())\n",
    "df_all_years = pd.DataFrame(arr_year, columns=['Year'])\n",
    "df_all_years.index = df_all_years['Year']\n",
    "\n",
    "df_years_off = ~df_all_years['Year'].isin(df_gdp['Year'])\n",
    "df_years_off = df_all_years.loc[df_years_off].index"
   ]
  },
  {
   "cell_type": "code",
   "execution_count": 58,
   "id": "c13d9710",
   "metadata": {},
   "outputs": [
    {
     "data": {
      "text/plain": [
       "Index([1902, 1903, 1904, 1905, 1907, 1908, 1909, 1910, 1912, 1913, 1914, 1915,\n",
       "       1917, 1918, 1919, 1920, 1922, 1923, 1924, 1925, 1927, 1928, 1929, 1930,\n",
       "       1932, 1933, 1934, 1935, 1937, 1938, 1939, 1940, 1942, 1943, 1944, 1945,\n",
       "       1947, 1948, 1949, 1950, 1952, 1953, 1954, 1955, 1957, 1958, 1959, 1960,\n",
       "       1962, 1963, 1964, 1965, 1967, 1968, 1969, 1970, 1972, 1973, 1974, 1975,\n",
       "       1977, 1978, 1979, 1980, 1982, 1983, 1984, 1985, 1987, 1988, 1989, 1990,\n",
       "       1992, 1993, 1994, 1995, 1997, 1998, 1999, 2000, 2002, 2003, 2004, 2005,\n",
       "       2007, 2008, 2009, 2010],\n",
       "      dtype='int32', name='Year')"
      ]
     },
     "execution_count": 58,
     "metadata": {},
     "output_type": "execute_result"
    }
   ],
   "source": [
    "df_years_off"
   ]
  },
  {
   "cell_type": "code",
   "execution_count": 73,
   "id": "hydraulic-confidentiality",
   "metadata": {},
   "outputs": [],
   "source": [
    "df_gdp = df_gdp.sort_values(['Country','Year'])\n",
    "df_gdp['delta_gdp'] = df_gdp['GDP_pp'] - df_gdp['GDP_pp'].shift(1)\n",
    "df_gdp['delta_year'] = df_gdp['Year'] - df_gdp['Year'].shift(1)\n",
    "df_gdp['gdp_year'] = (df_gdp['delta_gdp']/df_gdp['delta_year']).shift(-1)\n",
    "df_gdp['gdp_next_year'] = (df_gdp['Year']).shift(-1)\n",
    "\n",
    "del df_gdp['delta_year'],df_gdp['delta_gdp']"
   ]
  },
  {
   "cell_type": "code",
   "execution_count": 74,
   "id": "4afdc61c",
   "metadata": {},
   "outputs": [
    {
     "data": {
      "text/html": [
       "<div>\n",
       "<style scoped>\n",
       "    .dataframe tbody tr th:only-of-type {\n",
       "        vertical-align: middle;\n",
       "    }\n",
       "\n",
       "    .dataframe tbody tr th {\n",
       "        vertical-align: top;\n",
       "    }\n",
       "\n",
       "    .dataframe thead th {\n",
       "        text-align: right;\n",
       "    }\n",
       "</style>\n",
       "<table border=\"1\" class=\"dataframe\">\n",
       "  <thead>\n",
       "    <tr style=\"text-align: right;\">\n",
       "      <th></th>\n",
       "      <th>Country</th>\n",
       "      <th>Region</th>\n",
       "      <th>Year</th>\n",
       "      <th>GDP_pp</th>\n",
       "      <th>gdp_year</th>\n",
       "      <th>gdp_next_year</th>\n",
       "    </tr>\n",
       "  </thead>\n",
       "  <tbody>\n",
       "    <tr>\n",
       "      <th>0</th>\n",
       "      <td>Afghanistan</td>\n",
       "      <td>Middle East, North Africa, and Greater Arabia</td>\n",
       "      <td>1901</td>\n",
       "      <td>613.99</td>\n",
       "      <td>2.010</td>\n",
       "      <td>1906.0</td>\n",
       "    </tr>\n",
       "    <tr>\n",
       "      <th>1</th>\n",
       "      <td>Afghanistan</td>\n",
       "      <td>Middle East, North Africa, and Greater Arabia</td>\n",
       "      <td>1906</td>\n",
       "      <td>624.04</td>\n",
       "      <td>2.042</td>\n",
       "      <td>1911.0</td>\n",
       "    </tr>\n",
       "    <tr>\n",
       "      <th>2</th>\n",
       "      <td>Afghanistan</td>\n",
       "      <td>Middle East, North Africa, and Greater Arabia</td>\n",
       "      <td>1911</td>\n",
       "      <td>634.25</td>\n",
       "      <td>2.606</td>\n",
       "      <td>1916.0</td>\n",
       "    </tr>\n",
       "    <tr>\n",
       "      <th>3</th>\n",
       "      <td>Afghanistan</td>\n",
       "      <td>Middle East, North Africa, and Greater Arabia</td>\n",
       "      <td>1916</td>\n",
       "      <td>647.28</td>\n",
       "      <td>3.024</td>\n",
       "      <td>1921.0</td>\n",
       "    </tr>\n",
       "    <tr>\n",
       "      <th>4</th>\n",
       "      <td>Afghanistan</td>\n",
       "      <td>Middle East, North Africa, and Greater Arabia</td>\n",
       "      <td>1921</td>\n",
       "      <td>662.40</td>\n",
       "      <td>3.094</td>\n",
       "      <td>1926.0</td>\n",
       "    </tr>\n",
       "  </tbody>\n",
       "</table>\n",
       "</div>"
      ],
      "text/plain": [
       "       Country                                         Region  Year  GDP_pp  \\\n",
       "0  Afghanistan  Middle East, North Africa, and Greater Arabia  1901  613.99   \n",
       "1  Afghanistan  Middle East, North Africa, and Greater Arabia  1906  624.04   \n",
       "2  Afghanistan  Middle East, North Africa, and Greater Arabia  1911  634.25   \n",
       "3  Afghanistan  Middle East, North Africa, and Greater Arabia  1916  647.28   \n",
       "4  Afghanistan  Middle East, North Africa, and Greater Arabia  1921  662.40   \n",
       "\n",
       "   gdp_year  gdp_next_year  \n",
       "0     2.010         1906.0  \n",
       "1     2.042         1911.0  \n",
       "2     2.606         1916.0  \n",
       "3     3.024         1921.0  \n",
       "4     3.094         1926.0  "
      ]
     },
     "execution_count": 74,
     "metadata": {},
     "output_type": "execute_result"
    }
   ],
   "source": [
    "df_gdp.head(5)"
   ]
  },
  {
   "cell_type": "code",
   "execution_count": 90,
   "id": "aa99cb79",
   "metadata": {},
   "outputs": [],
   "source": [
    "df_new_data = pd.DataFrame()\n",
    "\n",
    "for idx, row in df_gdp.iterrows():\n",
    "    if row['Year'] == 2011:\n",
    "        continue\n",
    "    \n",
    "    years_to_add = df_years_off[(df_years_off < row['gdp_next_year']) & (df_years_off > row['Year'])]\n",
    "    \n",
    "    for new_year in years_to_add:\n",
    "        add_row = row.copy()\n",
    "        add_row['GDP_pp'] = (new_year - add_row['Year']) * add_row['gdp_year'] + add_row['GDP_pp']\n",
    "        add_row['Year'] = new_year\n",
    "        add_row['Kind'] = 'Estimated'\n",
    "        df_new_data = pd.concat([df_new_data, add_row.to_frame().transpose()])"
   ]
  },
  {
   "cell_type": "code",
   "execution_count": 92,
   "id": "be14d29e",
   "metadata": {},
   "outputs": [
    {
     "data": {
      "text/html": [
       "<div>\n",
       "<style scoped>\n",
       "    .dataframe tbody tr th:only-of-type {\n",
       "        vertical-align: middle;\n",
       "    }\n",
       "\n",
       "    .dataframe tbody tr th {\n",
       "        vertical-align: top;\n",
       "    }\n",
       "\n",
       "    .dataframe thead th {\n",
       "        text-align: right;\n",
       "    }\n",
       "</style>\n",
       "<table border=\"1\" class=\"dataframe\">\n",
       "  <thead>\n",
       "    <tr style=\"text-align: right;\">\n",
       "      <th></th>\n",
       "      <th>Country</th>\n",
       "      <th>Region</th>\n",
       "      <th>Year</th>\n",
       "      <th>GDP_pp</th>\n",
       "      <th>gdp_year</th>\n",
       "      <th>gdp_next_year</th>\n",
       "      <th>Kind</th>\n",
       "    </tr>\n",
       "  </thead>\n",
       "  <tbody>\n",
       "    <tr>\n",
       "      <th>0</th>\n",
       "      <td>Afghanistan</td>\n",
       "      <td>Middle East, North Africa, and Greater Arabia</td>\n",
       "      <td>1902</td>\n",
       "      <td>616.0</td>\n",
       "      <td>2.01</td>\n",
       "      <td>1906.0</td>\n",
       "      <td>Estimated</td>\n",
       "    </tr>\n",
       "    <tr>\n",
       "      <th>0</th>\n",
       "      <td>Afghanistan</td>\n",
       "      <td>Middle East, North Africa, and Greater Arabia</td>\n",
       "      <td>1903</td>\n",
       "      <td>618.01</td>\n",
       "      <td>2.01</td>\n",
       "      <td>1906.0</td>\n",
       "      <td>Estimated</td>\n",
       "    </tr>\n",
       "    <tr>\n",
       "      <th>0</th>\n",
       "      <td>Afghanistan</td>\n",
       "      <td>Middle East, North Africa, and Greater Arabia</td>\n",
       "      <td>1904</td>\n",
       "      <td>620.02</td>\n",
       "      <td>2.01</td>\n",
       "      <td>1906.0</td>\n",
       "      <td>Estimated</td>\n",
       "    </tr>\n",
       "    <tr>\n",
       "      <th>0</th>\n",
       "      <td>Afghanistan</td>\n",
       "      <td>Middle East, North Africa, and Greater Arabia</td>\n",
       "      <td>1905</td>\n",
       "      <td>622.03</td>\n",
       "      <td>2.01</td>\n",
       "      <td>1906.0</td>\n",
       "      <td>Estimated</td>\n",
       "    </tr>\n",
       "    <tr>\n",
       "      <th>1</th>\n",
       "      <td>Afghanistan</td>\n",
       "      <td>Middle East, North Africa, and Greater Arabia</td>\n",
       "      <td>1907</td>\n",
       "      <td>626.082</td>\n",
       "      <td>2.042</td>\n",
       "      <td>1911.0</td>\n",
       "      <td>Estimated</td>\n",
       "    </tr>\n",
       "  </tbody>\n",
       "</table>\n",
       "</div>"
      ],
      "text/plain": [
       "       Country                                         Region  Year   GDP_pp  \\\n",
       "0  Afghanistan  Middle East, North Africa, and Greater Arabia  1902    616.0   \n",
       "0  Afghanistan  Middle East, North Africa, and Greater Arabia  1903   618.01   \n",
       "0  Afghanistan  Middle East, North Africa, and Greater Arabia  1904   620.02   \n",
       "0  Afghanistan  Middle East, North Africa, and Greater Arabia  1905   622.03   \n",
       "1  Afghanistan  Middle East, North Africa, and Greater Arabia  1907  626.082   \n",
       "\n",
       "  gdp_year gdp_next_year       Kind  \n",
       "0     2.01        1906.0  Estimated  \n",
       "0     2.01        1906.0  Estimated  \n",
       "0     2.01        1906.0  Estimated  \n",
       "0     2.01        1906.0  Estimated  \n",
       "1    2.042        1911.0  Estimated  "
      ]
     },
     "execution_count": 92,
     "metadata": {},
     "output_type": "execute_result"
    }
   ],
   "source": [
    "df_new_data.head(5)"
   ]
  },
  {
   "cell_type": "code",
   "execution_count": 93,
   "id": "3a5a967c",
   "metadata": {},
   "outputs": [],
   "source": [
    "df_gdp = pd.concat([df_gdp,df_new_data])"
   ]
  },
  {
   "cell_type": "code",
   "execution_count": 96,
   "id": "68100a62",
   "metadata": {},
   "outputs": [],
   "source": [
    "df_gdp.sort_values(['Country','Year'], inplace=True)"
   ]
  },
  {
   "cell_type": "code",
   "execution_count": 98,
   "id": "079f1f05",
   "metadata": {},
   "outputs": [],
   "source": [
    "df_gdp.index = df_gdp['Year']"
   ]
  },
  {
   "cell_type": "code",
   "execution_count": 101,
   "id": "ac070e88",
   "metadata": {},
   "outputs": [],
   "source": [
    "df_gdp['Kind'].fillna('Real', inplace=True)"
   ]
  },
  {
   "cell_type": "code",
   "execution_count": 107,
   "id": "c0fe61f2",
   "metadata": {},
   "outputs": [
    {
     "data": {
      "text/html": [
       "<div>\n",
       "<style scoped>\n",
       "    .dataframe tbody tr th:only-of-type {\n",
       "        vertical-align: middle;\n",
       "    }\n",
       "\n",
       "    .dataframe tbody tr th {\n",
       "        vertical-align: top;\n",
       "    }\n",
       "\n",
       "    .dataframe thead th {\n",
       "        text-align: right;\n",
       "    }\n",
       "</style>\n",
       "<table border=\"1\" class=\"dataframe\">\n",
       "  <thead>\n",
       "    <tr style=\"text-align: right;\">\n",
       "      <th></th>\n",
       "      <th>Country</th>\n",
       "      <th>Region</th>\n",
       "      <th>Year</th>\n",
       "      <th>GDP_pp</th>\n",
       "      <th>gdp_year</th>\n",
       "      <th>gdp_next_year</th>\n",
       "      <th>Kind</th>\n",
       "    </tr>\n",
       "    <tr>\n",
       "      <th>Year</th>\n",
       "      <th></th>\n",
       "      <th></th>\n",
       "      <th></th>\n",
       "      <th></th>\n",
       "      <th></th>\n",
       "      <th></th>\n",
       "      <th></th>\n",
       "    </tr>\n",
       "  </thead>\n",
       "  <tbody>\n",
       "    <tr>\n",
       "      <th>1901</th>\n",
       "      <td>Afghanistan</td>\n",
       "      <td>Middle East, North Africa, and Greater Arabia</td>\n",
       "      <td>1901</td>\n",
       "      <td>613.99</td>\n",
       "      <td>2.01</td>\n",
       "      <td>1906.0</td>\n",
       "      <td>Real</td>\n",
       "    </tr>\n",
       "    <tr>\n",
       "      <th>1902</th>\n",
       "      <td>Afghanistan</td>\n",
       "      <td>Middle East, North Africa, and Greater Arabia</td>\n",
       "      <td>1902</td>\n",
       "      <td>616.0</td>\n",
       "      <td>2.01</td>\n",
       "      <td>1906.0</td>\n",
       "      <td>Estimated</td>\n",
       "    </tr>\n",
       "    <tr>\n",
       "      <th>1903</th>\n",
       "      <td>Afghanistan</td>\n",
       "      <td>Middle East, North Africa, and Greater Arabia</td>\n",
       "      <td>1903</td>\n",
       "      <td>618.01</td>\n",
       "      <td>2.01</td>\n",
       "      <td>1906.0</td>\n",
       "      <td>Estimated</td>\n",
       "    </tr>\n",
       "    <tr>\n",
       "      <th>1904</th>\n",
       "      <td>Afghanistan</td>\n",
       "      <td>Middle East, North Africa, and Greater Arabia</td>\n",
       "      <td>1904</td>\n",
       "      <td>620.02</td>\n",
       "      <td>2.01</td>\n",
       "      <td>1906.0</td>\n",
       "      <td>Estimated</td>\n",
       "    </tr>\n",
       "    <tr>\n",
       "      <th>1905</th>\n",
       "      <td>Afghanistan</td>\n",
       "      <td>Middle East, North Africa, and Greater Arabia</td>\n",
       "      <td>1905</td>\n",
       "      <td>622.03</td>\n",
       "      <td>2.01</td>\n",
       "      <td>1906.0</td>\n",
       "      <td>Estimated</td>\n",
       "    </tr>\n",
       "    <tr>\n",
       "      <th>...</th>\n",
       "      <td>...</td>\n",
       "      <td>...</td>\n",
       "      <td>...</td>\n",
       "      <td>...</td>\n",
       "      <td>...</td>\n",
       "      <td>...</td>\n",
       "      <td>...</td>\n",
       "    </tr>\n",
       "    <tr>\n",
       "      <th>2007</th>\n",
       "      <td>Zimbabwe</td>\n",
       "      <td>Sub-Saharan Africa</td>\n",
       "      <td>2007</td>\n",
       "      <td>521.402</td>\n",
       "      <td>1.232</td>\n",
       "      <td>2011.0</td>\n",
       "      <td>Estimated</td>\n",
       "    </tr>\n",
       "    <tr>\n",
       "      <th>2008</th>\n",
       "      <td>Zimbabwe</td>\n",
       "      <td>Sub-Saharan Africa</td>\n",
       "      <td>2008</td>\n",
       "      <td>522.634</td>\n",
       "      <td>1.232</td>\n",
       "      <td>2011.0</td>\n",
       "      <td>Estimated</td>\n",
       "    </tr>\n",
       "    <tr>\n",
       "      <th>2009</th>\n",
       "      <td>Zimbabwe</td>\n",
       "      <td>Sub-Saharan Africa</td>\n",
       "      <td>2009</td>\n",
       "      <td>523.866</td>\n",
       "      <td>1.232</td>\n",
       "      <td>2011.0</td>\n",
       "      <td>Estimated</td>\n",
       "    </tr>\n",
       "    <tr>\n",
       "      <th>2010</th>\n",
       "      <td>Zimbabwe</td>\n",
       "      <td>Sub-Saharan Africa</td>\n",
       "      <td>2010</td>\n",
       "      <td>525.098</td>\n",
       "      <td>1.232</td>\n",
       "      <td>2011.0</td>\n",
       "      <td>Estimated</td>\n",
       "    </tr>\n",
       "    <tr>\n",
       "      <th>2011</th>\n",
       "      <td>Zimbabwe</td>\n",
       "      <td>Sub-Saharan Africa</td>\n",
       "      <td>2011</td>\n",
       "      <td>526.33</td>\n",
       "      <td>NaN</td>\n",
       "      <td>NaN</td>\n",
       "      <td>Real</td>\n",
       "    </tr>\n",
       "  </tbody>\n",
       "</table>\n",
       "<p>21323 rows × 7 columns</p>\n",
       "</div>"
      ],
      "text/plain": [
       "          Country                                         Region  Year  \\\n",
       "Year                                                                     \n",
       "1901  Afghanistan  Middle East, North Africa, and Greater Arabia  1901   \n",
       "1902  Afghanistan  Middle East, North Africa, and Greater Arabia  1902   \n",
       "1903  Afghanistan  Middle East, North Africa, and Greater Arabia  1903   \n",
       "1904  Afghanistan  Middle East, North Africa, and Greater Arabia  1904   \n",
       "1905  Afghanistan  Middle East, North Africa, and Greater Arabia  1905   \n",
       "...           ...                                            ...   ...   \n",
       "2007     Zimbabwe                             Sub-Saharan Africa  2007   \n",
       "2008     Zimbabwe                             Sub-Saharan Africa  2008   \n",
       "2009     Zimbabwe                             Sub-Saharan Africa  2009   \n",
       "2010     Zimbabwe                             Sub-Saharan Africa  2010   \n",
       "2011     Zimbabwe                             Sub-Saharan Africa  2011   \n",
       "\n",
       "       GDP_pp gdp_year gdp_next_year       Kind  \n",
       "Year                                             \n",
       "1901   613.99     2.01        1906.0       Real  \n",
       "1902    616.0     2.01        1906.0  Estimated  \n",
       "1903   618.01     2.01        1906.0  Estimated  \n",
       "1904   620.02     2.01        1906.0  Estimated  \n",
       "1905   622.03     2.01        1906.0  Estimated  \n",
       "...       ...      ...           ...        ...  \n",
       "2007  521.402    1.232        2011.0  Estimated  \n",
       "2008  522.634    1.232        2011.0  Estimated  \n",
       "2009  523.866    1.232        2011.0  Estimated  \n",
       "2010  525.098    1.232        2011.0  Estimated  \n",
       "2011   526.33      NaN           NaN       Real  \n",
       "\n",
       "[21323 rows x 7 columns]"
      ]
     },
     "execution_count": 107,
     "metadata": {},
     "output_type": "execute_result"
    }
   ],
   "source": [
    "df_gdp"
   ]
  },
  {
   "cell_type": "code",
   "execution_count": 115,
   "id": "2fba4e88",
   "metadata": {},
   "outputs": [
    {
     "data": {
      "text/plain": [
       "<Axes: xlabel='Year', ylabel='GDP_pp'>"
      ]
     },
     "execution_count": 115,
     "metadata": {},
     "output_type": "execute_result"
    },
    {
     "data": {
      "image/png": "[encoded data removed]",
      "text/plain": [
       "<Figure size 2000x500 with 1 Axes>"
      ]
     },
     "metadata": {},
     "output_type": "display_data"
    }
   ],
   "source": [
    "import matplotlib.pyplot as plt\n",
    "\n",
    "fig, ax = plt.subplots(figsize = (20,5))\n",
    "\n",
    "country = 'Brazil'\n",
    "df_gdp[(df_gdp['Kind']=='Real') & (df_gdp['Country']==country)].plot(kind='scatter', y='GDP_pp', x='Year', ax=ax)\n",
    "df_gdp[(df_gdp['Kind']=='Estimated') & (df_gdp['Country']==country)].plot(kind='scatter', y='GDP_pp', x='Year', ax=ax, color='orange')"
   ]
  },
  {
   "cell_type": "markdown",
   "id": "revised-helicopter",
   "metadata": {},
   "source": [
    "### DESAFIOS\n",
    "- Você conseguiria criar um mapa do gdp ou da obesidade no mundo ao longo dos anos?"
   ]
  },
  {
   "cell_type": "code",
   "execution_count": null,
   "id": "advised-sample",
   "metadata": {},
   "outputs": [],
   "source": []
  },
  {
   "cell_type": "markdown",
   "id": "lesbian-flight",
   "metadata": {},
   "source": [
    "- Há uma relação entre níveis de obesidade e gdp per capita?"
   ]
  },
  {
   "cell_type": "code",
   "execution_count": null,
   "id": "b8f7aa88",
   "metadata": {},
   "outputs": [],
   "source": []
  }
 ],
 "metadata": {
  "kernelspec": {
   "display_name": "Python 3 (ipykernel)",
   "language": "python",
   "name": "python3"
  },
  "language_info": {
   "codemirror_mode": {
    "name": "ipython",
    "version": 3
   },
   "file_extension": ".py",
   "mimetype": "text/x-python",
   "name": "python",
   "nbconvert_exporter": "python",
   "pygments_lexer": "ipython3",
   "version": "3.11.5"
  }
 },
 "nbformat": 4,
 "nbformat_minor": 5
}
